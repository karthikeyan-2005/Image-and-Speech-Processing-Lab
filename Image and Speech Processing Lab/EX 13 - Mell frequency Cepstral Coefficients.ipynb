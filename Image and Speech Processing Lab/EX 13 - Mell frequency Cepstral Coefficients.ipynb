{
 "cells": [
  {
   "cell_type": "code",
   "execution_count": 1,
   "metadata": {},
   "outputs": [
    {
     "name": "stdout",
     "output_type": "stream",
     "text": [
      "[-0.01738697 -0.02810948 -0.00662852 ...  0.07072017  0.07115451\n",
      "  0.06516534]\n",
      "sample rate:22050HZ\n",
      "Audio duration:6.5s\n",
      "[[-219.37381    -215.54314    -217.26982    ... -245.7114\n",
      "  -245.99171    -244.60828   ]\n",
      " [  55.12384      58.722496     61.233887   ...   66.5266\n",
      "    65.32631      66.8613    ]\n",
      " [ -30.448849    -27.890385    -22.451464   ...  -19.271458\n",
      "   -23.097046    -18.843632  ]\n",
      " ...\n",
      " [  -6.3421063    -9.058981     -9.702561   ...  -11.525116\n",
      "    -9.8483515    -6.803407  ]\n",
      " [  -2.7326841    -2.2498674     1.7608159  ...    1.4896483\n",
      "     0.93037903    2.8084626 ]\n",
      " [ -13.27495     -11.341683     -6.6493845  ...   -2.4455087\n",
      "    -5.0610194    -2.5841854 ]]\n"
     ]
    }
   ],
   "source": [
    "import librosa\n",
    "y,sr = librosa.load(\"C:/Users/GFLAB/Dropbox/PC/Documents/Image and speech processing/img_sp_lab/dataset/auds/speech.wav\")\n",
    "print(y)\n",
    "print(\"sample rate:{0}HZ\".format(sr))\n",
    "print(\"Audio duration:{0}s\".format(len(y)/sr))\n",
    "print(librosa.feature.mfcc(y=y,sr=sr,n_mfcc=13))"
   ]
  }
 ],
 "metadata": {
  "kernelspec": {
   "display_name": "Python 3",
   "language": "python",
   "name": "python3"
  },
  "language_info": {
   "codemirror_mode": {
    "name": "ipython",
    "version": 3
   },
   "file_extension": ".py",
   "mimetype": "text/x-python",
   "name": "python",
   "nbconvert_exporter": "python",
   "pygments_lexer": "ipython3",
   "version": "3.8.5"
  }
 },
 "nbformat": 4,
 "nbformat_minor": 4
}
