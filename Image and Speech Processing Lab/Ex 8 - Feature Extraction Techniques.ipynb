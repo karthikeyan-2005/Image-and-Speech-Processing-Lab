{
 "cells": [
  {
   "cell_type": "markdown",
   "metadata": {},
   "source": [
    "# a) Scale - Invariant Feature Transform (SIFT)"
   ]
  },
  {
   "cell_type": "code",
   "execution_count": null,
   "metadata": {},
   "outputs": [],
   "source": [
    "import numpy as np\n",
    "import cv2 as cv\n",
    "from matplotlib import pyplot as plt\n",
    "img = cv.imread('C:/Users/GFLAB/Dropbox/PC/Documents/Image and speech processing/img_sp_lab/dataset/imgs/ship.jpg')\n",
    "plt.subplot(121)\n",
    "plt.imshow(img)\n",
    "gray = cv.cvtColor(img,cv.COLOR_BGR2GRAY)\n",
    "sift = cv.SIFT_create()\n",
    "kp = sift.detect(gray,None)\n",
    "img = cv.drawKeypoints(gray,kp,img)\n",
    "plt.subplot(122)\n",
    "plt.imshow(img)\n",
    "plt.show()"
   ]
  },
  {
   "cell_type": "markdown",
   "metadata": {},
   "source": [
    "# b) ORB(Oriented FAST and Rotated BRIEF)"
   ]
  },
  {
   "cell_type": "code",
   "execution_count": null,
   "metadata": {},
   "outputs": [],
   "source": [
    "import numpy as np \n",
    "import cv2 \n",
    "import matplotlib.pyplot as plt\n",
    "  \n",
    "query_img = cv2.imread('C:/Users/GFLAB/Dropbox/PC/Documents/Image and speech processing/img_sp_lab/dataset/imgs/ship.jpg') \n",
    "train_img = cv2.imread('C:/Users/GFLAB/Dropbox/PC/Documents/Image and speech processing/img_sp_lab/dataset/imgs/ship.jpg') \n",
    "\n",
    "query_img_bw = cv2.cvtColor(query_img,cv2.COLOR_BGR2GRAY) \n",
    "train_img_bw = cv2.cvtColor(train_img, cv2.COLOR_BGR2GRAY) \n",
    "\n",
    "orb = cv2.ORB_create() \n",
    "  \n",
    "queryKeypoints, queryDescriptors = orb.detectAndCompute(query_img_bw,None) \n",
    "trainKeypoints, trainDescriptors = orb.detectAndCompute(train_img_bw,None) \n",
    "  \n",
    "matcher = cv2.BFMatcher() \n",
    "matches = matcher.match(queryDescriptors,trainDescriptors) \n",
    " \n",
    "final_img = cv2.drawMatches(query_img, queryKeypoints, train_img, trainKeypoints, matches[:20],None) \n",
    "final_img = cv2.resize(final_img,(1000,650))\n",
    "\n",
    "while(1):\n",
    "    cv2.imshow(\"Matches\",final_img)\n",
    "    if cv2.waitKey(20) & 0xFF == 27:\n",
    "        break\n",
    "cv2.destroyAllWindows()"
   ]
  },
  {
   "cell_type": "code",
   "execution_count": null,
   "metadata": {},
   "outputs": [],
   "source": []
  }
 ],
 "metadata": {
  "kernelspec": {
   "display_name": "Python 3",
   "language": "python",
   "name": "python3"
  },
  "language_info": {
   "codemirror_mode": {
    "name": "ipython",
    "version": 3
   },
   "file_extension": ".py",
   "mimetype": "text/x-python",
   "name": "python",
   "nbconvert_exporter": "python",
   "pygments_lexer": "ipython3",
   "version": "3.8.5"
  }
 },
 "nbformat": 4,
 "nbformat_minor": 4
}
