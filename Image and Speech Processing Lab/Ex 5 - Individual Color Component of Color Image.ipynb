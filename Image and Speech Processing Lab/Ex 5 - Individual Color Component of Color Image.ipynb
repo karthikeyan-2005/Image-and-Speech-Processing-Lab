{
 "cells": [
  {
   "cell_type": "code",
   "execution_count": null,
   "metadata": {},
   "outputs": [],
   "source": [
    "import cv2 \n",
    "import numpy as np \n",
    "import matplotlib.pyplot as plt \n",
    "# Load an image \n",
    "image_path = 'image.jpg'  # replace with your image path \n",
    "img = cv2.imread(image_path) \n",
    "# Convert from BGR (OpenCV default) to RGB \n",
    "img_rgb = cv2.cvtColor(img, cv2.COLOR_BGR2RGB) \n",
    "# Split the RGB channels \n",
    "R, G, B = cv2.split(img_rgb) \n",
    "# Convert RGB to YCrCb (Luma and Chroma components) \n",
    "img_ycrcb = cv2.cvtColor(img_rgb, cv2.COLOR_RGB2YCrCb) \n",
    "Y, Cr, Cb = cv2.split(img_ycrcb) \n",
    "# Convert RGB to HSI (Hue, Saturation, Intensity) \n",
    "img_hsv = cv2.cvtColor(img_rgb, cv2.COLOR_RGB2HSV) \n",
    "H, S, I = cv2.split(img_hsv) \n",
    "# Display the individual channels \n",
    "fig, axs = plt.subplots(2, 4, figsize=(12, 6))\n",
    "# RGB Components \n",
    "axs[0, 0].imshow(R, cmap='gray') \n",
    "axs[0, 0].set_title('Red Component') \n",
    "axs[0, 0].axis('off') \n",
    "axs[0, 1].imshow(G, cmap='gray') \n",
    "axs[0, 1].set_title('Green Component') \n",
    "axs[0, 1].axis('off') \n",
    "axs[0, 2].imshow(B, cmap='gray') \n",
    "axs[0, 2].set_title('Blue Component') \n",
    "axs[0, 2].axis('off') \n",
    "# YCrCb Components \n",
    "axs[0, 3].imshow(Y, cmap='gray') \n",
    "axs[0, 3].set_title('Luma (Y)') \n",
    "axs[0, 3].axis('off') \n",
    "axs[1, 0].imshow(Cr, cmap='gray') \n",
    "axs[1, 0].set_title('Chroma Red (Cr)') \n",
    "axs[1, 0].axis('off') \n",
    "axs[1, 1].imshow(Cb, cmap='gray') \n",
    "axs[1, 1].set_title('Chroma Blue (Cb)') \n",
    "axs[1, 1].axis('off') \n",
    "# HSI Components \n",
    "axs[1, 2].imshow(H, cmap='gray') \n",
    "axs[1, 2].set_title('Hue') \n",
    "axs[1, 2].axis('off') \n",
    "axs[1, 3].imshow(S, cmap='gray') \n",
    "axs[1, 3].set_title('Saturation') \n",
    "axs[1, 3].axis('off') \n",
    "plt.tight_layout() \n",
    "plt.show() "
   ]
  }
 ],
 "metadata": {
  "kernelspec": {
   "display_name": "Python 3",
   "language": "python",
   "name": "python3"
  },
  "language_info": {
   "codemirror_mode": {
    "name": "ipython",
    "version": 3
   },
   "file_extension": ".py",
   "mimetype": "text/x-python",
   "name": "python",
   "nbconvert_exporter": "python",
   "pygments_lexer": "ipython3",
   "version": "3.12.1"
  }
 },
 "nbformat": 4,
 "nbformat_minor": 2
}
